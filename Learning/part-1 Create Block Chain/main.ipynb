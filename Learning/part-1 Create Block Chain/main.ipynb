{
 "cells": [
  {
   "cell_type": "code",
   "execution_count": 8,
   "metadata": {},
   "outputs": [
    {
     "name": "stdout",
     "output_type": "stream",
     "text": [
      "2022-03-27 14:41:49.391900\n",
      "426fc04f04bf8fdb5831dc37bbb6dcf70f63a37e05a68c6ea5f63e85ae579376\n",
      "{\"foo\": \"bar\"}\n"
     ]
    }
   ],
   "source": [
    "# Module 1 - Create a block chain \n",
    "import datetime\n",
    "import hashlib\n",
    "import json\n",
    "from flask import Flask, jsonify\n",
    "\n",
    "# use datetime\n",
    "def timestamp():\n",
    "    return datetime.datetime.now()\n",
    "\n",
    "print(timestamp())\n",
    "\n",
    "# use hashlib\n",
    "def hash(block):\n",
    "    return hashlib.sha256(json.dumps(block).encode()).hexdigest()\n",
    "\n",
    "print(hash({'foo': 'bar'}))\n",
    "\n",
    "# use json\n",
    "def json_block(block):\n",
    "    return json.dumps(block, sort_keys=True)\n",
    "     \n",
    "print(json_block({'foo': 'bar'}))\n",
    "\n",
    "# use flask\n",
    "app = Flask(__name__)\n",
    "  \n",
    "@app.route('/')\n",
    "def index():\n",
    "    return 'Hello, World!'\n",
    " "
   ]
  },
  {
   "cell_type": "markdown",
   "metadata": {},
   "source": [
    "## Part 1 Building Blockchain\n",
    "\n",
    "What does a block contain?\n",
    "- Index\n",
    "- Timestamp\n",
    "- Previous Hash\n",
    "- Hash\n",
    "- Data"
   ]
  },
  {
   "cell_type": "code",
   "execution_count": null,
   "metadata": {},
   "outputs": [],
   "source": [
    "class Blockchain:\n",
    "    def __init__(self):\n",
    "        self.chain = []\n",
    "        self.create_block(proof = 1, previous_hash = '0')\n",
    "        \n",
    "    def create_block(self, proof, previous_hash):\n",
    "        block = {\n",
    "            'index': len(self.chain) + 1,\n",
    "            'timestamp': str(datetime.datetime.now()),\n",
    "            'previous_hash': previous_hash,\n",
    "            'proof': proof,\n",
    "        }\n",
    "        self.chain.append(block)\n",
    "        return block\n",
    "    \n",
    "    def get_previous_block(self):\n",
    "        return self.chain[-1]\n",
    "    \n",
    "    def proof_of_work(self, previous_proof):\n",
    "        proof = 1\n",
    "        check_proof = False\n",
    "        while check_proof is False:\n",
    "            hash_operation = hashlib.sha256(str(proof**2 - previous_proof**2).encode().hexdigest())\n",
    "            if hash_operation[:4] == '0000':\n",
    "                check_proof = True\n",
    "            else:\n",
    "                proof += 1 \n",
    "        return proof\n",
    "    \n",
    "    def hash(self, block):\n",
    "        encoded_block = json.dumps(block, sort_keys=True)\n",
    "        return hashlib.sha256(encoded_block).hexdigest()\n",
    "        "
   ]
  }
 ],
 "metadata": {
  "interpreter": {
   "hash": "e986eaf338342c48e8a2e3332f95951a71f374ef723b13437ea2e2c6c2c04b98"
  },
  "kernelspec": {
   "display_name": "Python 3.10.0 64-bit",
   "language": "python",
   "name": "python3"
  },
  "language_info": {
   "codemirror_mode": {
    "name": "ipython",
    "version": 3
   },
   "file_extension": ".py",
   "mimetype": "text/x-python",
   "name": "python",
   "nbconvert_exporter": "python",
   "pygments_lexer": "ipython3",
   "version": "3.10.0"
  },
  "orig_nbformat": 4
 },
 "nbformat": 4,
 "nbformat_minor": 2
}
